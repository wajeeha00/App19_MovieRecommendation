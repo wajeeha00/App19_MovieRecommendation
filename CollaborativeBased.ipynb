{
 "cells": [
  {
   "cell_type": "code",
   "execution_count": 1,
   "metadata": {},
   "outputs": [
    {
     "data": {
      "text/plain": [
       "{'test_rmse': array([0.89936361, 0.89990485, 0.88506281, 0.89191764, 0.90372838]),\n",
       " 'test_mae': array([0.69322849, 0.69146673, 0.68240525, 0.68845528, 0.69419544]),\n",
       " 'fit_time': (0.5229957103729248,\n",
       "  0.7036256790161133,\n",
       "  1.3171343803405762,\n",
       "  1.2740883827209473,\n",
       "  1.2139828205108643),\n",
       " 'test_time': (0.10841774940490723,\n",
       "  0.15351581573486328,\n",
       "  0.19790434837341309,\n",
       "  0.1774735450744629,\n",
       "  0.23598980903625488)}"
      ]
     },
     "execution_count": 1,
     "metadata": {},
     "output_type": "execute_result"
    }
   ],
   "source": [
    "# %%\n",
    "import pandas\n",
    "ratings = pandas.read_csv(\"ratings.csv\")[[\"userId\", \"movieId\", \"rating\"]]\n",
    "ratings.head()\n",
    "\n",
    "# %%\n",
    "from surprise import Dataset, Reader\n",
    "\n",
    "reader = Reader(rating_scale=(1,5))\n",
    "\n",
    "dataset = Dataset.load_from_df(ratings, reader)\n",
    "dataset\n",
    "\n",
    "# %%\n",
    "trainset = dataset.build_full_trainset()\n",
    "\n",
    "# %%\n",
    "list(trainset.all_ratings())\n",
    "\n",
    "# %%\n",
    "from surprise import SVD\n",
    "\n",
    "svd = SVD()\n",
    "\n",
    "# %%\n",
    "svd.fit(trainset)\n",
    "\n",
    "# %%\n",
    "svd.predict(15, 1956)\n",
    "\n",
    "# %%\n",
    "from surprise import model_selection\n",
    "\n",
    "model_selection.cross_validate(svd, dataset, measures=[\"RMSE\", \"MAE\"])\n",
    "\n",
    "# %%\n"
   ]
  },
  {
   "cell_type": "code",
   "execution_count": null,
   "metadata": {},
   "outputs": [],
   "source": []
  }
 ],
 "metadata": {
  "kernelspec": {
   "display_name": "Python 3",
   "language": "python",
   "name": "python3"
  },
  "language_info": {
   "codemirror_mode": {
    "name": "ipython",
    "version": 3
   },
   "file_extension": ".py",
   "mimetype": "text/x-python",
   "name": "python",
   "nbconvert_exporter": "python",
   "pygments_lexer": "ipython3",
   "version": "3.9.13"
  }
 },
 "nbformat": 4,
 "nbformat_minor": 2
}
